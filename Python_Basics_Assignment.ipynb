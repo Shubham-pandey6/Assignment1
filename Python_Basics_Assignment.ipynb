{
  "nbformat": 4,
  "nbformat_minor": 0,
  "metadata": {
    "colab": {
      "provenance": []
    },
    "kernelspec": {
      "name": "python3",
      "display_name": "Python 3"
    },
    "language_info": {
      "name": "python"
    }
  },
  "cells": [
    {
      "cell_type": "markdown",
      "source": [
        "# Python Basics-Assignment Question"
      ],
      "metadata": {
        "id": "YOXO8isOF6HG"
      }
    },
    {
      "cell_type": "markdown",
      "source": [
        " 1.What is Python, and why is it popular?\n",
        "\n",
        "Python is a beginner-friendly programming language known for its simple syntax and versatility. It supports multiple paradigms like object-oriented and functional programming, and comes with a rich standard library.\n",
        "\n",
        "Why It’s Popular:\n",
        "\n",
        "Easy to Learn: Clean, readable code\n",
        "\n",
        "Vast Libraries: Tools for web, data science, AI, and more\n",
        "\n",
        "Versatile Uses: From web apps to automation\n",
        "\n",
        "Strong Community: Tons of resources and support\n",
        "\n",
        "Cross-Platform: Runs on most operating systems\n",
        "\n",
        "2.What is an interpreter in Python?\n",
        "\n",
        "Python's interpreter reads and executes code line-by-line, translating it into bytecode and running it via the Python Virtual Machine.\n",
        "\n",
        "3.What Are Pre-defined Keywords in Python?\n",
        "\n",
        "Reserved words like if, while, class, True, False—they have special meaning and are part of the language syntax.\n",
        "\n",
        "4.Can Keywords Be Used As Variable Names?\n",
        "\n",
        "No, Keywords are off-limits for variable names—they’d confuse the interpreter.\n",
        "\n",
        "5.What Is Mutability in Python?\n",
        "\n",
        "It’s the ability of an object to be changed after creation. Mutable = changeable. Immutable = fixed.\n",
        "\n",
        "6.Why Are Lists Mutable, but Tuples Immutable?\n",
        "\n",
        "Lists are designed for dynamic data that changes.\n",
        "\n",
        "Tuples are for fixed collections—immutability makes them faster and safer for use as dictionary keys.\n",
        "\n",
        "7.Difference Between \"==\" and \"is\" Operators in python?\n",
        "\n",
        "Operator\tMeaning\n",
        "==\tCompares values (e.g., 5 == 5 → True)\n",
        "is\tCompares identity (e.g., same object in memory)\n",
        "\n",
        "8.What Are Logical Operators in Python?\n",
        "\n",
        "\"and\", \"or\", \"not\": used to combine or invert boolean expressions.\n",
        "\n",
        "True and False → False\n",
        "\n",
        "True or False → True\n",
        "\n",
        "not True → False\n",
        "\n",
        "9.What Is Type Casting?\n",
        "\n",
        "Converting one data type to another: like turning a string \"5\" into an integer 5.\n",
        "\n",
        "10.Implicit vs Explicit Type Casting\n",
        "\n",
        "Type\tDescription\n",
        "Implicit\tPython automatically converts (e.g., 2 + 2.5 → 4.5)\n",
        "Explicit\tYou do it manually (e.g., int(\"3\") → 3)\n",
        "\n",
        "11.Purpose of Conditional Statements in Python\n",
        "\n",
        "They control program flow based on conditions: if, elif, else guide decisions and logic paths.\n",
        "\n",
        "12.How Does elif Work?\n",
        "\n",
        "Short for \"else if\", used after if to check another condition—saves using multiple nested ifs.\n",
        "if score >= 90:\n",
        "    print(\"A\")\n",
        "elif score >= 80:\n",
        "    print(\"B\")\n",
        "else:\n",
        "    print(\"C or below\")\n",
        "13.Difference Between for and while Loops\n",
        "\n",
        "Loop\tBest For\n",
        "for\tKnown iteration counts (e.g., looping over a list)\n",
        "while\tRuns until a condition is no longer true (useful for uncertain end points)\n",
        "\n",
        "14.When Is a while Loop More Suitable than a for loop?\n",
        "\n",
        "Example: Waiting for user input to be valid\n",
        "user_input = \"\"\n",
        "while user_input != \"yes\":\n",
        "    user_input = input(\"Type 'yes' to continue: \")\n",
        "\n",
        "This keeps prompting until the user types \"yes\"—something a for loop can’t easily handle.    \n"
      ],
      "metadata": {
        "id": "o5ie27kYGEk3"
      }
    },
    {
      "cell_type": "code",
      "source": [],
      "metadata": {
        "id": "m0nFng8kbBoN"
      },
      "execution_count": null,
      "outputs": []
    },
    {
      "cell_type": "markdown",
      "source": [
        "1. Print “Hello, World!”"
      ],
      "metadata": {
        "id": "duliz30Cb6H0"
      }
    },
    {
      "cell_type": "code",
      "source": [
        "print(\"Hello, World!\")"
      ],
      "metadata": {
        "colab": {
          "base_uri": "https://localhost:8080/"
        },
        "id": "361fMI4JcIuv",
        "outputId": "566e77e2-d966-49dc-ecb3-c40fb4729c4b"
      },
      "execution_count": 1,
      "outputs": [
        {
          "output_type": "stream",
          "name": "stdout",
          "text": [
            "Hello, World!\n"
          ]
        }
      ]
    },
    {
      "cell_type": "code",
      "source": [],
      "metadata": {
        "id": "BLBas8n7GJB1"
      },
      "execution_count": null,
      "outputs": []
    },
    {
      "cell_type": "markdown",
      "source": [
        "2.Display Your Name and Age"
      ],
      "metadata": {
        "id": "D7vI7CuKcVem"
      }
    },
    {
      "cell_type": "code",
      "source": [
        "name = \"Shubham Pandey\"\n",
        "age = 27\n",
        "print(\"Name:\", name)\n",
        "print(\"Age:\", age)\n"
      ],
      "metadata": {
        "colab": {
          "base_uri": "https://localhost:8080/"
        },
        "id": "KLRCwHLLcYT7",
        "outputId": "953e6052-99be-4bb2-cf49-f4c457cad118"
      },
      "execution_count": 2,
      "outputs": [
        {
          "output_type": "stream",
          "name": "stdout",
          "text": [
            "Name: Shubham Pandey\n",
            "Age: 27\n"
          ]
        }
      ]
    },
    {
      "cell_type": "markdown",
      "source": [
        "3. Print All Pre-defined Keywords"
      ],
      "metadata": {
        "id": "cwIR3VpUcmFd"
      }
    },
    {
      "cell_type": "code",
      "source": [
        "import keyword\n",
        "print(keyword.kwlist)\n"
      ],
      "metadata": {
        "colab": {
          "base_uri": "https://localhost:8080/"
        },
        "id": "zHLduuSGcosT",
        "outputId": "eab53cdf-a756-484e-af5f-bbff62474c97"
      },
      "execution_count": 3,
      "outputs": [
        {
          "output_type": "stream",
          "name": "stdout",
          "text": [
            "['False', 'None', 'True', 'and', 'as', 'assert', 'async', 'await', 'break', 'class', 'continue', 'def', 'del', 'elif', 'else', 'except', 'finally', 'for', 'from', 'global', 'if', 'import', 'in', 'is', 'lambda', 'nonlocal', 'not', 'or', 'pass', 'raise', 'return', 'try', 'while', 'with', 'yield']\n"
          ]
        }
      ]
    },
    {
      "cell_type": "markdown",
      "source": [
        "4. Check if a Word Is a Python Keyword"
      ],
      "metadata": {
        "id": "QX_o91Vrc0aC"
      }
    },
    {
      "cell_type": "code",
      "source": [
        "import keyword\n",
        "word = input(\"Enter a word: \")\n",
        "print(\"Is keyword?\", keyword.iskeyword(word))\n"
      ],
      "metadata": {
        "colab": {
          "base_uri": "https://localhost:8080/"
        },
        "id": "g-X9Vor9c17a",
        "outputId": "c29d9ed3-2ffd-450c-e694-ca4b1a825769"
      },
      "execution_count": 4,
      "outputs": [
        {
          "output_type": "stream",
          "name": "stdout",
          "text": [
            "Enter a word: k\n",
            "Is keyword? False\n"
          ]
        }
      ]
    },
    {
      "cell_type": "markdown",
      "source": [
        "5. List vs Tuple Mutability"
      ],
      "metadata": {
        "id": "lQbdAZQedACz"
      }
    },
    {
      "cell_type": "code",
      "source": [
        "# List (mutable)\n",
        "my_list = [1, 2, 3]\n",
        "my_list[0] = 99\n",
        "print(\"Modified list:\", my_list)\n",
        "\n",
        "# Tuple (immutable)\n",
        "my_tuple = (1, 2, 3)\n",
        "# my_tuple[0] = 99  # This will raise an error\n",
        "print(\"Tuple remains:\", my_tuple)\n"
      ],
      "metadata": {
        "colab": {
          "base_uri": "https://localhost:8080/"
        },
        "id": "cMbhNWtxdA5s",
        "outputId": "6eaf271a-610a-4346-a1a2-24ade5103345"
      },
      "execution_count": 5,
      "outputs": [
        {
          "output_type": "stream",
          "name": "stdout",
          "text": [
            "Modified list: [99, 2, 3]\n",
            "Tuple remains: (1, 2, 3)\n"
          ]
        }
      ]
    },
    {
      "cell_type": "markdown",
      "source": [
        "6. Mutable vs Immutable Arguments"
      ],
      "metadata": {
        "id": "S2e-EB7kdDu8"
      }
    },
    {
      "cell_type": "code",
      "source": [
        "def change_list(lst):\n",
        "    lst.append(4)\n",
        "\n",
        "def change_number(num):\n",
        "    num += 1\n",
        "    return num\n",
        "\n",
        "a = [1, 2, 3]\n",
        "b = 10\n",
        "\n",
        "change_list(a)\n",
        "b = change_number(b)\n",
        "\n",
        "print(\"List (mutable):\", a)\n",
        "print(\"Number (immutable):\", b)\n"
      ],
      "metadata": {
        "colab": {
          "base_uri": "https://localhost:8080/"
        },
        "id": "aZlG455-dFDe",
        "outputId": "d87b2e5d-317f-4d9f-c916-16a3cba8bb2e"
      },
      "execution_count": 6,
      "outputs": [
        {
          "output_type": "stream",
          "name": "stdout",
          "text": [
            "List (mutable): [1, 2, 3, 4]\n",
            "Number (immutable): 11\n"
          ]
        }
      ]
    },
    {
      "cell_type": "markdown",
      "source": [
        "7. Basic Arithmetic Operations"
      ],
      "metadata": {
        "id": "0-rlZyyAdGCe"
      }
    },
    {
      "cell_type": "code",
      "source": [
        "x = float(input(\"Enter first number: \"))\n",
        "y = float(input(\"Enter second number: \"))\n",
        "print(\"Sum:\", x + y)\n",
        "print(\"Difference:\", x - y)\n",
        "print(\"Product:\", x * y)\n",
        "print(\"Division:\", x / y)\n"
      ],
      "metadata": {
        "colab": {
          "base_uri": "https://localhost:8080/"
        },
        "id": "ZbeUPjordMJ4",
        "outputId": "f2889bfd-227d-4061-cd87-b465b44adcb6"
      },
      "execution_count": 7,
      "outputs": [
        {
          "output_type": "stream",
          "name": "stdout",
          "text": [
            "Enter first number: 7\n",
            "Enter second number: 8\n",
            "Sum: 15.0\n",
            "Difference: -1.0\n",
            "Product: 56.0\n",
            "Division: 0.875\n"
          ]
        }
      ]
    },
    {
      "cell_type": "markdown",
      "source": [
        "8. Use of Logical Operators"
      ],
      "metadata": {
        "id": "hgwMWTjkdOLH"
      }
    },
    {
      "cell_type": "code",
      "source": [
        "a = 5\n",
        "b = 10\n",
        "print(a > 2 and b < 20)\n",
        "print(a < 3 or b > 8)\n",
        "print(not(a == b))\n"
      ],
      "metadata": {
        "colab": {
          "base_uri": "https://localhost:8080/"
        },
        "id": "fJ3QM9kfdRKq",
        "outputId": "da68e3cd-d96f-4272-f72f-24fa2da04bad"
      },
      "execution_count": 8,
      "outputs": [
        {
          "output_type": "stream",
          "name": "stdout",
          "text": [
            "True\n",
            "True\n",
            "True\n"
          ]
        }
      ]
    },
    {
      "cell_type": "markdown",
      "source": [
        "9. Convert User Input to Different Types"
      ],
      "metadata": {
        "id": "Kh76Is_pdT7U"
      }
    },
    {
      "cell_type": "code",
      "source": [
        "user_input = input(\"Enter something: \")\n",
        "print(\"Integer:\", int(user_input))\n",
        "print(\"Float:\", float(user_input))\n",
        "print(\"Boolean:\", bool(user_input))\n"
      ],
      "metadata": {
        "colab": {
          "base_uri": "https://localhost:8080/"
        },
        "id": "aWah6cZAdVHW",
        "outputId": "e3be4b93-2c4e-40f0-b8a0-10843581c45a"
      },
      "execution_count": 10,
      "outputs": [
        {
          "output_type": "stream",
          "name": "stdout",
          "text": [
            "Enter something: 45\n",
            "Integer: 45\n",
            "Float: 45.0\n",
            "Boolean: True\n"
          ]
        }
      ]
    },
    {
      "cell_type": "markdown",
      "source": [
        "10. Type Casting List Elements"
      ],
      "metadata": {
        "id": "B9Muv225dXXr"
      }
    },
    {
      "cell_type": "code",
      "source": [
        "str_list = [\"1\", \"2\", \"3\"]\n",
        "int_list = [int(i) for i in str_list]\n",
        "print(\"Converted list:\", int_list)\n"
      ],
      "metadata": {
        "colab": {
          "base_uri": "https://localhost:8080/"
        },
        "id": "4edFXqa8dYDs",
        "outputId": "e245c3f3-591b-4fd0-f3c4-9a461c9652e9"
      },
      "execution_count": 11,
      "outputs": [
        {
          "output_type": "stream",
          "name": "stdout",
          "text": [
            "Converted list: [1, 2, 3]\n"
          ]
        }
      ]
    },
    {
      "cell_type": "markdown",
      "source": [
        "11. Check if a Number Is Positive, Negative, or Zero"
      ],
      "metadata": {
        "id": "MgumKPB1dfUf"
      }
    },
    {
      "cell_type": "code",
      "source": [
        "num = float(input(\"Enter a number: \"))\n",
        "if num > 0:\n",
        "    print(\"Positive\")\n",
        "elif num < 0:\n",
        "    print(\"Negative\")\n",
        "else:\n",
        "    print(\"Zero\")\n"
      ],
      "metadata": {
        "colab": {
          "base_uri": "https://localhost:8080/"
        },
        "id": "oW4yi3AqdgP-",
        "outputId": "c70d777b-826f-4bad-edb9-08bd6e149e53"
      },
      "execution_count": 12,
      "outputs": [
        {
          "output_type": "stream",
          "name": "stdout",
          "text": [
            "Enter a number: 3\n",
            "Positive\n"
          ]
        }
      ]
    },
    {
      "cell_type": "markdown",
      "source": [
        "12. For Loop from 1 to 10"
      ],
      "metadata": {
        "id": "dBf6UDoydjBQ"
      }
    },
    {
      "cell_type": "code",
      "source": [
        "for i in range(1, 11):\n",
        "    print(i)\n"
      ],
      "metadata": {
        "colab": {
          "base_uri": "https://localhost:8080/"
        },
        "id": "IExxx5gZdkt1",
        "outputId": "faef76ad-b76c-40e9-e4b6-8f30972ebf58"
      },
      "execution_count": 13,
      "outputs": [
        {
          "output_type": "stream",
          "name": "stdout",
          "text": [
            "1\n",
            "2\n",
            "3\n",
            "4\n",
            "5\n",
            "6\n",
            "7\n",
            "8\n",
            "9\n",
            "10\n"
          ]
        }
      ]
    },
    {
      "cell_type": "markdown",
      "source": [
        "13. Sum of Even Numbers Between 1 and 50"
      ],
      "metadata": {
        "id": "Ce7OZhAydmt7"
      }
    },
    {
      "cell_type": "code",
      "source": [
        "total = 0\n",
        "for i in range(2, 51, 2):\n",
        "    total += i\n",
        "print(\"Sum of even numbers:\", total)\n"
      ],
      "metadata": {
        "colab": {
          "base_uri": "https://localhost:8080/"
        },
        "id": "tN4CUNwRdn0a",
        "outputId": "60e0e1c5-28a6-4e54-d5d0-74749341b386"
      },
      "execution_count": 14,
      "outputs": [
        {
          "output_type": "stream",
          "name": "stdout",
          "text": [
            "Sum of even numbers: 650\n"
          ]
        }
      ]
    },
    {
      "cell_type": "markdown",
      "source": [
        "14. Reverse a String Using While Loop"
      ],
      "metadata": {
        "id": "zCEA8JgAdqol"
      }
    },
    {
      "cell_type": "code",
      "source": [
        "text = input(\"Enter a string: \")\n",
        "i = len(text) - 1\n",
        "rev = ''\n",
        "while i >= 0:\n",
        "    rev += text[i]\n",
        "    i -= 1\n",
        "print(\"Reversed:\", rev)\n"
      ],
      "metadata": {
        "colab": {
          "base_uri": "https://localhost:8080/"
        },
        "id": "AyefrTuXdrnH",
        "outputId": "acab6b0a-1c2a-4faa-a07f-40b86c468cd0"
      },
      "execution_count": 19,
      "outputs": [
        {
          "output_type": "stream",
          "name": "stdout",
          "text": [
            "Enter a string: shubham pandey\n",
            "Reversed: yednap mahbuhs\n"
          ]
        }
      ]
    },
    {
      "cell_type": "markdown",
      "source": [
        "15. Factorial Using While Loop"
      ],
      "metadata": {
        "id": "ZwhI_2R2dtlF"
      }
    },
    {
      "cell_type": "code",
      "source": [
        "num = int(input(\"Enter a number: \"))\n",
        "factorial = 1\n",
        "while num > 1:\n",
        "    factorial *= num\n",
        "    num -= 1\n",
        "print(\"Factorial:\", factorial)\n"
      ],
      "metadata": {
        "colab": {
          "base_uri": "https://localhost:8080/"
        },
        "id": "wsckmzh8dvBD",
        "outputId": "f791631a-ee1f-4700-de41-77b30a33faee"
      },
      "execution_count": 16,
      "outputs": [
        {
          "output_type": "stream",
          "name": "stdout",
          "text": [
            "Enter a number: 3\n",
            "Factorial: 6\n"
          ]
        }
      ]
    }
  ]
}